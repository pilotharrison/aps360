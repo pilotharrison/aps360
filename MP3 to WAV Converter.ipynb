{
 "cells": [
  {
   "cell_type": "code",
   "execution_count": null,
   "metadata": {},
   "outputs": [],
   "source": [
    "### Before running this code, make sure to install ffmpeg and set path to the file location on windows."
   ]
  },
  {
   "cell_type": "code",
   "execution_count": 1,
   "metadata": {},
   "outputs": [
    {
     "name": "stdout",
     "output_type": "stream",
     "text": [
      "Requirement already satisfied: pydub in c:\\users\\jason\\anaconda3\\envs\\aps360\\lib\\site-packages (0.24.1)Note: you may need to restart the kernel to use updated packages.\n",
      "\n"
     ]
    }
   ],
   "source": [
    "pip install pydub"
   ]
  },
  {
   "cell_type": "code",
   "execution_count": 2,
   "metadata": {},
   "outputs": [],
   "source": [
    "import os\n",
    "import time\n",
    "from pydub import AudioSegment\n",
    "from openpyxl import load_workbook"
   ]
  },
  {
   "cell_type": "code",
   "execution_count": 3,
   "metadata": {},
   "outputs": [],
   "source": [
    "# Load xlsx file containing path names of validated audio samples\n",
    "samples = load_workbook (r'G:/School/Validated_Samples.xlsx')"
   ]
  },
  {
   "cell_type": "code",
   "execution_count": 4,
   "metadata": {},
   "outputs": [],
   "source": [
    "# Set the directories\n",
    "path_from = r'G:/School/clips'\n",
    "path_to = r'G:/School/WAV Files'"
   ]
  },
  {
   "cell_type": "code",
   "execution_count": 9,
   "metadata": {},
   "outputs": [],
   "source": [
    "def mp3_to_wav(samples, path_from, path_to):\n",
    "    lastrow = samples['Validated_Samples'].max_row\n",
    "\n",
    "    n = 2\n",
    "    time_length = []\n",
    "    for i in range(2,lastrow + 1):\n",
    "        start_time = time.time()\n",
    "        file_name = samples['Validated_Samples'].cell(row=i, column=2).value\n",
    "        src = os.path.join(path_from, file_name)\n",
    "        dst = os.path.join(path_to, file_name + \".wav\")\n",
    "        sound = AudioSegment.from_mp3(src)\n",
    "        sound.export(dst, format=\"wav\")\n",
    "        \n",
    "        # Print progress\n",
    "        end_time = time.time()\n",
    "        time_length.append(end_time - start_time)\n",
    "        predicted_time = int(((sum(time_length) / len(time_length))*(lastrow - n)) / 60)\n",
    "        percent = int(n / lastrow * 100)\n",
    "        print(f'{percent}% Complete, Time left: {predicted_time} min(s)\\r', end=\"\")\n",
    "        \n",
    "        # Count iteration\n",
    "        n += 1"
   ]
  },
  {
   "cell_type": "code",
   "execution_count": 10,
   "metadata": {},
   "outputs": [
    {
     "name": "stdout",
     "output_type": "stream",
     "text": [
      "100% Complete, Time left: 0 min(s)\r"
     ]
    }
   ],
   "source": [
    "mp3_to_wav(samples, path_from, path_to)"
   ]
  }
 ],
 "metadata": {
  "kernelspec": {
   "display_name": "Python 3",
   "language": "python",
   "name": "python3"
  },
  "language_info": {
   "codemirror_mode": {
    "name": "ipython",
    "version": 3
   },
   "file_extension": ".py",
   "mimetype": "text/x-python",
   "name": "python",
   "nbconvert_exporter": "python",
   "pygments_lexer": "ipython3",
   "version": "3.7.7"
  }
 },
 "nbformat": 4,
 "nbformat_minor": 4
}
