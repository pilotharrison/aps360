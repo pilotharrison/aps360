{
 "cells": [
  {
   "cell_type": "code",
   "execution_count": null,
   "metadata": {},
   "outputs": [],
   "source": [
    "import torch"
   ]
  },
  {
   "cell_type": "code",
   "execution_count": null,
   "metadata": {},
   "outputs": [],
   "source": [
    "attempt_number = 1\n",
    "epoch = 10\n",
    "learning rate = 5e-4\n",
    "batch_size = 10\n",
    "\n",
    "model_name = f'attemptnumber_{attempt_number}_epoch_{epoch}_lr_{learning_rate}_batchsize{batch_size}.pt'\n",
    "filepath = r'G:/School/2020 Mozilla Dataset/saved_models/' + model_name\n",
    "\n",
    "state = torch.load(filepath)\n",
    "\n",
    "model.load_state_dict(state['state_dict'])\n",
    "optimizer.load_state_dict(state['optimizer'])\n"
   ]
  }
 ],
 "metadata": {
  "kernelspec": {
   "display_name": "Python 3",
   "language": "python",
   "name": "python3"
  },
  "language_info": {
   "codemirror_mode": {
    "name": "ipython",
    "version": 3
   },
   "file_extension": ".py",
   "mimetype": "text/x-python",
   "name": "python",
   "nbconvert_exporter": "python",
   "pygments_lexer": "ipython3",
   "version": "3.7.7"
  }
 },
 "nbformat": 4,
 "nbformat_minor": 4
}
